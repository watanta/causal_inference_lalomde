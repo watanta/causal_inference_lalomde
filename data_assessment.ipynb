{
 "cells": [
  {
   "cell_type": "code",
   "execution_count": 18,
   "metadata": {},
   "outputs": [],
   "source": [
    "import pandas as pd\n",
    "import cufflinks as cf\n",
    "import math\n",
    "import seaborn as sns\n",
    "import numpy as np\n",
    "from scipy.spatial import distance"
   ]
  },
  {
   "cell_type": "markdown",
   "metadata": {},
   "source": [
    "# データロード"
   ]
  },
  {
   "cell_type": "code",
   "execution_count": 88,
   "metadata": {
    "scrolled": true
   },
   "outputs": [
    {
     "name": "stdout",
     "output_type": "stream",
     "text": [
      "(297, 9)\n"
     ]
    },
    {
     "name": "stderr",
     "output_type": "stream",
     "text": [
      "/home/watanabe/.local/share/virtualenvs/causal_inference_lalomde-bTRS2FO0/lib/python3.6/site-packages/ipykernel_launcher.py:3: ParserWarning:\n",
      "\n",
      "Falling back to the 'python' engine because the 'c' engine does not support regex separators (separators > 1 char and different from '\\s+' are interpreted as regex); you can avoid this warning by specifying engine='python'.\n",
      "\n"
     ]
    },
    {
     "data": {
      "text/html": [
       "<div>\n",
       "<style scoped>\n",
       "    .dataframe tbody tr th:only-of-type {\n",
       "        vertical-align: middle;\n",
       "    }\n",
       "\n",
       "    .dataframe tbody tr th {\n",
       "        vertical-align: top;\n",
       "    }\n",
       "\n",
       "    .dataframe thead th {\n",
       "        text-align: right;\n",
       "    }\n",
       "</style>\n",
       "<table border=\"1\" class=\"dataframe\">\n",
       "  <thead>\n",
       "    <tr style=\"text-align: right;\">\n",
       "      <th></th>\n",
       "      <th>treat</th>\n",
       "      <th>age</th>\n",
       "      <th>educ</th>\n",
       "      <th>black</th>\n",
       "      <th>hispan</th>\n",
       "      <th>married</th>\n",
       "      <th>nodegree</th>\n",
       "      <th>re75</th>\n",
       "      <th>re78</th>\n",
       "    </tr>\n",
       "  </thead>\n",
       "  <tbody>\n",
       "    <tr>\n",
       "      <td>0</td>\n",
       "      <td>1.0</td>\n",
       "      <td>37.0</td>\n",
       "      <td>11.0</td>\n",
       "      <td>1.0</td>\n",
       "      <td>0.0</td>\n",
       "      <td>1.0</td>\n",
       "      <td>1.0</td>\n",
       "      <td>0.0</td>\n",
       "      <td>9930.0460</td>\n",
       "    </tr>\n",
       "    <tr>\n",
       "      <td>1</td>\n",
       "      <td>1.0</td>\n",
       "      <td>22.0</td>\n",
       "      <td>9.0</td>\n",
       "      <td>0.0</td>\n",
       "      <td>1.0</td>\n",
       "      <td>0.0</td>\n",
       "      <td>1.0</td>\n",
       "      <td>0.0</td>\n",
       "      <td>3595.8940</td>\n",
       "    </tr>\n",
       "    <tr>\n",
       "      <td>2</td>\n",
       "      <td>1.0</td>\n",
       "      <td>30.0</td>\n",
       "      <td>12.0</td>\n",
       "      <td>1.0</td>\n",
       "      <td>0.0</td>\n",
       "      <td>0.0</td>\n",
       "      <td>0.0</td>\n",
       "      <td>0.0</td>\n",
       "      <td>24909.4500</td>\n",
       "    </tr>\n",
       "    <tr>\n",
       "      <td>3</td>\n",
       "      <td>1.0</td>\n",
       "      <td>27.0</td>\n",
       "      <td>11.0</td>\n",
       "      <td>1.0</td>\n",
       "      <td>0.0</td>\n",
       "      <td>0.0</td>\n",
       "      <td>1.0</td>\n",
       "      <td>0.0</td>\n",
       "      <td>7506.1460</td>\n",
       "    </tr>\n",
       "    <tr>\n",
       "      <td>4</td>\n",
       "      <td>1.0</td>\n",
       "      <td>33.0</td>\n",
       "      <td>8.0</td>\n",
       "      <td>1.0</td>\n",
       "      <td>0.0</td>\n",
       "      <td>0.0</td>\n",
       "      <td>1.0</td>\n",
       "      <td>0.0</td>\n",
       "      <td>289.7899</td>\n",
       "    </tr>\n",
       "  </tbody>\n",
       "</table>\n",
       "</div>"
      ],
      "text/plain": [
       "   treat   age  educ  black  hispan  married  nodegree  re75        re78\n",
       "0    1.0  37.0  11.0    1.0     0.0      1.0       1.0   0.0   9930.0460\n",
       "1    1.0  22.0   9.0    0.0     1.0      0.0       1.0   0.0   3595.8940\n",
       "2    1.0  30.0  12.0    1.0     0.0      0.0       0.0   0.0  24909.4500\n",
       "3    1.0  27.0  11.0    1.0     0.0      0.0       1.0   0.0   7506.1460\n",
       "4    1.0  33.0   8.0    1.0     0.0      0.0       1.0   0.0    289.7899"
      ]
     },
     "execution_count": 88,
     "metadata": {},
     "output_type": "execute_result"
    }
   ],
   "source": [
    "#データロード\n",
    "columns = [\"treat\",\"age\",\"educ\",\"black\",\"hispan\",\"married\",\"nodegree\",\"re75\",\"re78\"]\n",
    "treated = pd.read_csv('input/nsw_treated.txt',header=None,delimiter='  ')\n",
    "treated.columns = columns\n",
    "print(treated.shape)\n",
    "treated.head()"
   ]
  },
  {
   "cell_type": "code",
   "execution_count": 89,
   "metadata": {
    "scrolled": true
   },
   "outputs": [
    {
     "name": "stdout",
     "output_type": "stream",
     "text": [
      "(425, 9)\n"
     ]
    },
    {
     "name": "stderr",
     "output_type": "stream",
     "text": [
      "/home/watanabe/.local/share/virtualenvs/causal_inference_lalomde-bTRS2FO0/lib/python3.6/site-packages/ipykernel_launcher.py:2: ParserWarning:\n",
      "\n",
      "Falling back to the 'python' engine because the 'c' engine does not support regex separators (separators > 1 char and different from '\\s+' are interpreted as regex); you can avoid this warning by specifying engine='python'.\n",
      "\n"
     ]
    },
    {
     "data": {
      "text/html": [
       "<div>\n",
       "<style scoped>\n",
       "    .dataframe tbody tr th:only-of-type {\n",
       "        vertical-align: middle;\n",
       "    }\n",
       "\n",
       "    .dataframe tbody tr th {\n",
       "        vertical-align: top;\n",
       "    }\n",
       "\n",
       "    .dataframe thead th {\n",
       "        text-align: right;\n",
       "    }\n",
       "</style>\n",
       "<table border=\"1\" class=\"dataframe\">\n",
       "  <thead>\n",
       "    <tr style=\"text-align: right;\">\n",
       "      <th></th>\n",
       "      <th>treat</th>\n",
       "      <th>age</th>\n",
       "      <th>educ</th>\n",
       "      <th>black</th>\n",
       "      <th>hispan</th>\n",
       "      <th>married</th>\n",
       "      <th>nodegree</th>\n",
       "      <th>re75</th>\n",
       "      <th>re78</th>\n",
       "    </tr>\n",
       "  </thead>\n",
       "  <tbody>\n",
       "    <tr>\n",
       "      <td>0</td>\n",
       "      <td>0.0</td>\n",
       "      <td>23.0</td>\n",
       "      <td>10.0</td>\n",
       "      <td>1.0</td>\n",
       "      <td>0.0</td>\n",
       "      <td>0.0</td>\n",
       "      <td>1.0</td>\n",
       "      <td>0.000</td>\n",
       "      <td>0.00</td>\n",
       "    </tr>\n",
       "    <tr>\n",
       "      <td>1</td>\n",
       "      <td>0.0</td>\n",
       "      <td>26.0</td>\n",
       "      <td>12.0</td>\n",
       "      <td>0.0</td>\n",
       "      <td>0.0</td>\n",
       "      <td>0.0</td>\n",
       "      <td>0.0</td>\n",
       "      <td>0.000</td>\n",
       "      <td>12383.68</td>\n",
       "    </tr>\n",
       "    <tr>\n",
       "      <td>2</td>\n",
       "      <td>0.0</td>\n",
       "      <td>22.0</td>\n",
       "      <td>9.0</td>\n",
       "      <td>1.0</td>\n",
       "      <td>0.0</td>\n",
       "      <td>0.0</td>\n",
       "      <td>1.0</td>\n",
       "      <td>0.000</td>\n",
       "      <td>0.00</td>\n",
       "    </tr>\n",
       "    <tr>\n",
       "      <td>3</td>\n",
       "      <td>0.0</td>\n",
       "      <td>34.0</td>\n",
       "      <td>9.0</td>\n",
       "      <td>1.0</td>\n",
       "      <td>0.0</td>\n",
       "      <td>0.0</td>\n",
       "      <td>1.0</td>\n",
       "      <td>4368.413</td>\n",
       "      <td>14051.16</td>\n",
       "    </tr>\n",
       "    <tr>\n",
       "      <td>4</td>\n",
       "      <td>0.0</td>\n",
       "      <td>18.0</td>\n",
       "      <td>9.0</td>\n",
       "      <td>1.0</td>\n",
       "      <td>0.0</td>\n",
       "      <td>0.0</td>\n",
       "      <td>1.0</td>\n",
       "      <td>0.000</td>\n",
       "      <td>10740.08</td>\n",
       "    </tr>\n",
       "  </tbody>\n",
       "</table>\n",
       "</div>"
      ],
      "text/plain": [
       "   treat   age  educ  black  hispan  married  nodegree      re75      re78\n",
       "0    0.0  23.0  10.0    1.0     0.0      0.0       1.0     0.000      0.00\n",
       "1    0.0  26.0  12.0    0.0     0.0      0.0       0.0     0.000  12383.68\n",
       "2    0.0  22.0   9.0    1.0     0.0      0.0       1.0     0.000      0.00\n",
       "3    0.0  34.0   9.0    1.0     0.0      0.0       1.0  4368.413  14051.16\n",
       "4    0.0  18.0   9.0    1.0     0.0      0.0       1.0     0.000  10740.08"
      ]
     },
     "execution_count": 89,
     "metadata": {},
     "output_type": "execute_result"
    }
   ],
   "source": [
    "columns = [\"treat\",\"age\",\"educ\",\"black\",\"hispan\",\"married\",\"nodegree\",\"re75\",\"re78\"]\n",
    "controlled = pd.read_csv('input/nsw_control.txt',header=None,delimiter='  ')\n",
    "controlled.columns = columns\n",
    "print(controlled.shape)\n",
    "controlled.head()"
   ]
  },
  {
   "cell_type": "code",
   "execution_count": 90,
   "metadata": {},
   "outputs": [
    {
     "data": {
      "text/plain": [
       "(722, 9)"
      ]
     },
     "execution_count": 90,
     "metadata": {},
     "output_type": "execute_result"
    }
   ],
   "source": [
    "all_sample = pd.concat((treated,controlled), axis=0)\n",
    "all_sample.shape"
   ]
  },
  {
   "cell_type": "markdown",
   "metadata": {},
   "source": [
    "# データ確認"
   ]
  },
  {
   "cell_type": "markdown",
   "metadata": {},
   "source": [
    "## 施策の効果の推定"
   ]
  },
  {
   "cell_type": "code",
   "execution_count": 5,
   "metadata": {},
   "outputs": [
    {
     "data": {
      "text/html": [
       "        <script type=\"text/javascript\">\n",
       "        window.PlotlyConfig = {MathJaxConfig: 'local'};\n",
       "        if (window.MathJax) {MathJax.Hub.Config({SVG: {font: \"STIX-Web\"}});}\n",
       "        if (typeof require !== 'undefined') {\n",
       "        require.undef(\"plotly\");\n",
       "        requirejs.config({\n",
       "            paths: {\n",
       "                'plotly': ['https://cdn.plot.ly/plotly-latest.min']\n",
       "            }\n",
       "        });\n",
       "        require(['plotly'], function(Plotly) {\n",
       "            window._Plotly = Plotly;\n",
       "        });\n",
       "        }\n",
       "        </script>\n",
       "        "
      ]
     },
     "metadata": {},
     "output_type": "display_data"
    },
    {
     "data": {
      "application/vnd.plotly.v1+json": {
       "config": {
        "linkText": "Export to plot.ly",
        "plotlyServerURL": "https://plot.ly",
        "showLink": true
       },
       "data": [
        {
         "marker": {
          "color": "rgba(255, 153, 51, 0.6)",
          "line": {
           "color": "rgba(255, 153, 51, 1.0)",
           "width": 1
          }
         },
         "name": "re78",
         "orientation": "v",
         "text": "",
         "type": "bar",
         "uid": "3a4fa7b4-df95-4e3d-b4b8-4b4be89d8b65",
         "x": [
          0,
          1
         ],
         "y": [
          5090.048302023525,
          5976.352032727272
         ]
        }
       ],
       "layout": {
        "legend": {
         "bgcolor": "#F5F6F9",
         "font": {
          "color": "#4D5663"
         }
        },
        "paper_bgcolor": "#F5F6F9",
        "plot_bgcolor": "#F5F6F9",
        "title": {
         "font": {
          "color": "#4D5663"
         }
        },
        "xaxis": {
         "gridcolor": "#E1E5ED",
         "showgrid": true,
         "tickfont": {
          "color": "#4D5663"
         },
         "title": {
          "font": {
           "color": "#4D5663"
          },
          "text": ""
         },
         "zerolinecolor": "#E1E5ED"
        },
        "yaxis": {
         "gridcolor": "#E1E5ED",
         "showgrid": true,
         "tickfont": {
          "color": "#4D5663"
         },
         "title": {
          "font": {
           "color": "#4D5663"
          },
          "text": ""
         },
         "zerolinecolor": "#E1E5ED"
        }
       }
      },
      "text/html": [
       "<div>\n",
       "        \n",
       "        \n",
       "            <div id=\"49aa20fd-691c-4298-a182-a5326773936f\" class=\"plotly-graph-div\" style=\"height:525px; width:100%;\"></div>\n",
       "            <script type=\"text/javascript\">\n",
       "                require([\"plotly\"], function(Plotly) {\n",
       "                    window.PLOTLYENV=window.PLOTLYENV || {};\n",
       "                    window.PLOTLYENV.BASE_URL='https://plot.ly';\n",
       "                    \n",
       "                if (document.getElementById(\"49aa20fd-691c-4298-a182-a5326773936f\")) {\n",
       "                    Plotly.newPlot(\n",
       "                        '49aa20fd-691c-4298-a182-a5326773936f',\n",
       "                        [{\"marker\": {\"color\": \"rgba(255, 153, 51, 0.6)\", \"line\": {\"color\": \"rgba(255, 153, 51, 1.0)\", \"width\": 1}}, \"name\": \"re78\", \"orientation\": \"v\", \"text\": \"\", \"type\": \"bar\", \"uid\": \"3a4fa7b4-df95-4e3d-b4b8-4b4be89d8b65\", \"x\": [0.0, 1.0], \"y\": [5090.048302023525, 5976.352032727272]}],\n",
       "                        {\"legend\": {\"bgcolor\": \"#F5F6F9\", \"font\": {\"color\": \"#4D5663\"}}, \"paper_bgcolor\": \"#F5F6F9\", \"plot_bgcolor\": \"#F5F6F9\", \"title\": {\"font\": {\"color\": \"#4D5663\"}}, \"xaxis\": {\"gridcolor\": \"#E1E5ED\", \"showgrid\": true, \"tickfont\": {\"color\": \"#4D5663\"}, \"title\": {\"font\": {\"color\": \"#4D5663\"}, \"text\": \"\"}, \"zerolinecolor\": \"#E1E5ED\"}, \"yaxis\": {\"gridcolor\": \"#E1E5ED\", \"showgrid\": true, \"tickfont\": {\"color\": \"#4D5663\"}, \"title\": {\"font\": {\"color\": \"#4D5663\"}, \"text\": \"\"}, \"zerolinecolor\": \"#E1E5ED\"}},\n",
       "                        {\"showLink\": true, \"linkText\": \"Export to plot.ly\", \"plotlyServerURL\": \"https://plot.ly\", \"responsive\": true}\n",
       "                    ).then(function(){\n",
       "                            \n",
       "var gd = document.getElementById('49aa20fd-691c-4298-a182-a5326773936f');\n",
       "var x = new MutationObserver(function (mutations, observer) {{\n",
       "        var display = window.getComputedStyle(gd).display;\n",
       "        if (!display || display === 'none') {{\n",
       "            console.log([gd, 'removed!']);\n",
       "            Plotly.purge(gd);\n",
       "            observer.disconnect();\n",
       "        }}\n",
       "}});\n",
       "\n",
       "// Listen for the removal of the full notebook cells\n",
       "var notebookContainer = gd.closest('#notebook-container');\n",
       "if (notebookContainer) {{\n",
       "    x.observe(notebookContainer, {childList: true});\n",
       "}}\n",
       "\n",
       "// Listen for the clearing of the current output cell\n",
       "var outputEl = gd.closest('.output');\n",
       "if (outputEl) {{\n",
       "    x.observe(outputEl, {childList: true});\n",
       "}}\n",
       "\n",
       "                        })\n",
       "                };\n",
       "                });\n",
       "            </script>\n",
       "        </div>"
      ]
     },
     "metadata": {},
     "output_type": "display_data"
    }
   ],
   "source": [
    "# re78のtreatの条件付き平均値の差\n",
    "cf.go_offline()\n",
    "all_sample.groupby('treat').mean()['re78'].iplot(kind='bar')"
   ]
  },
  {
   "cell_type": "markdown",
   "metadata": {},
   "source": [
    "というわけでこの施策の効果は1000位です  "
   ]
  },
  {
   "cell_type": "markdown",
   "metadata": {},
   "source": [
    "## 反論１：黒人は収入が少ない.この平均値の差は黒人かどうかによるものだ"
   ]
  },
  {
   "cell_type": "code",
   "execution_count": 6,
   "metadata": {},
   "outputs": [
    {
     "data": {
      "application/vnd.plotly.v1+json": {
       "config": {
        "linkText": "Export to plot.ly",
        "plotlyServerURL": "https://plot.ly",
        "showLink": true
       },
       "data": [
        {
         "marker": {
          "color": "rgba(255, 153, 51, 0.6)",
          "line": {
           "color": "rgba(255, 153, 51, 1.0)",
           "width": 1
          }
         },
         "name": "black",
         "orientation": "v",
         "text": "",
         "type": "bar",
         "uid": "73a38fa2-9b90-4708-8527-4c77b8d23b01",
         "x": [
          0,
          1
         ],
         "y": [
          0.8,
          0.8013468013468014
         ]
        }
       ],
       "layout": {
        "legend": {
         "bgcolor": "#F5F6F9",
         "font": {
          "color": "#4D5663"
         }
        },
        "paper_bgcolor": "#F5F6F9",
        "plot_bgcolor": "#F5F6F9",
        "title": {
         "font": {
          "color": "#4D5663"
         }
        },
        "xaxis": {
         "gridcolor": "#E1E5ED",
         "showgrid": true,
         "tickfont": {
          "color": "#4D5663"
         },
         "title": {
          "font": {
           "color": "#4D5663"
          },
          "text": ""
         },
         "zerolinecolor": "#E1E5ED"
        },
        "yaxis": {
         "gridcolor": "#E1E5ED",
         "showgrid": true,
         "tickfont": {
          "color": "#4D5663"
         },
         "title": {
          "font": {
           "color": "#4D5663"
          },
          "text": ""
         },
         "zerolinecolor": "#E1E5ED"
        }
       }
      },
      "text/html": [
       "<div>\n",
       "        \n",
       "        \n",
       "            <div id=\"ffc0fb05-58b4-4600-b377-3d1976384753\" class=\"plotly-graph-div\" style=\"height:525px; width:100%;\"></div>\n",
       "            <script type=\"text/javascript\">\n",
       "                require([\"plotly\"], function(Plotly) {\n",
       "                    window.PLOTLYENV=window.PLOTLYENV || {};\n",
       "                    window.PLOTLYENV.BASE_URL='https://plot.ly';\n",
       "                    \n",
       "                if (document.getElementById(\"ffc0fb05-58b4-4600-b377-3d1976384753\")) {\n",
       "                    Plotly.newPlot(\n",
       "                        'ffc0fb05-58b4-4600-b377-3d1976384753',\n",
       "                        [{\"marker\": {\"color\": \"rgba(255, 153, 51, 0.6)\", \"line\": {\"color\": \"rgba(255, 153, 51, 1.0)\", \"width\": 1}}, \"name\": \"black\", \"orientation\": \"v\", \"text\": \"\", \"type\": \"bar\", \"uid\": \"73a38fa2-9b90-4708-8527-4c77b8d23b01\", \"x\": [0.0, 1.0], \"y\": [0.8, 0.8013468013468014]}],\n",
       "                        {\"legend\": {\"bgcolor\": \"#F5F6F9\", \"font\": {\"color\": \"#4D5663\"}}, \"paper_bgcolor\": \"#F5F6F9\", \"plot_bgcolor\": \"#F5F6F9\", \"title\": {\"font\": {\"color\": \"#4D5663\"}}, \"xaxis\": {\"gridcolor\": \"#E1E5ED\", \"showgrid\": true, \"tickfont\": {\"color\": \"#4D5663\"}, \"title\": {\"font\": {\"color\": \"#4D5663\"}, \"text\": \"\"}, \"zerolinecolor\": \"#E1E5ED\"}, \"yaxis\": {\"gridcolor\": \"#E1E5ED\", \"showgrid\": true, \"tickfont\": {\"color\": \"#4D5663\"}, \"title\": {\"font\": {\"color\": \"#4D5663\"}, \"text\": \"\"}, \"zerolinecolor\": \"#E1E5ED\"}},\n",
       "                        {\"showLink\": true, \"linkText\": \"Export to plot.ly\", \"plotlyServerURL\": \"https://plot.ly\", \"responsive\": true}\n",
       "                    ).then(function(){\n",
       "                            \n",
       "var gd = document.getElementById('ffc0fb05-58b4-4600-b377-3d1976384753');\n",
       "var x = new MutationObserver(function (mutations, observer) {{\n",
       "        var display = window.getComputedStyle(gd).display;\n",
       "        if (!display || display === 'none') {{\n",
       "            console.log([gd, 'removed!']);\n",
       "            Plotly.purge(gd);\n",
       "            observer.disconnect();\n",
       "        }}\n",
       "}});\n",
       "\n",
       "// Listen for the removal of the full notebook cells\n",
       "var notebookContainer = gd.closest('#notebook-container');\n",
       "if (notebookContainer) {{\n",
       "    x.observe(notebookContainer, {childList: true});\n",
       "}}\n",
       "\n",
       "// Listen for the clearing of the current output cell\n",
       "var outputEl = gd.closest('.output');\n",
       "if (outputEl) {{\n",
       "    x.observe(outputEl, {childList: true});\n",
       "}}\n",
       "\n",
       "                        })\n",
       "                };\n",
       "                });\n",
       "            </script>\n",
       "        </div>"
      ]
     },
     "metadata": {},
     "output_type": "display_data"
    }
   ],
   "source": [
    "all_sample.groupby('treat').mean()['black'].iplot(kind='bar')"
   ]
  },
  {
   "cell_type": "markdown",
   "metadata": {},
   "source": [
    "２つのグループで黒人の数は釣り合っている。よって、反論1は却下できる。"
   ]
  },
  {
   "cell_type": "markdown",
   "metadata": {},
   "source": [
    "## 反論２：教育を受けた年数が長ければ収入が増える。この平均値の差は教育を受けた年数によるものだ"
   ]
  },
  {
   "cell_type": "code",
   "execution_count": 7,
   "metadata": {},
   "outputs": [
    {
     "data": {
      "application/vnd.plotly.v1+json": {
       "config": {
        "linkText": "Export to plot.ly",
        "plotlyServerURL": "https://plot.ly",
        "showLink": true
       },
       "data": [
        {
         "marker": {
          "color": "rgba(255, 153, 51, 0.6)",
          "line": {
           "color": "rgba(255, 153, 51, 1.0)",
           "width": 1
          }
         },
         "name": "educ",
         "orientation": "v",
         "text": "",
         "type": "bar",
         "uid": "0f563929-b53a-4c27-9466-4f93d5304ddf",
         "x": [
          0,
          1
         ],
         "y": [
          10.188235294117646,
          10.38047138047138
         ]
        }
       ],
       "layout": {
        "legend": {
         "bgcolor": "#F5F6F9",
         "font": {
          "color": "#4D5663"
         }
        },
        "paper_bgcolor": "#F5F6F9",
        "plot_bgcolor": "#F5F6F9",
        "title": {
         "font": {
          "color": "#4D5663"
         }
        },
        "xaxis": {
         "gridcolor": "#E1E5ED",
         "showgrid": true,
         "tickfont": {
          "color": "#4D5663"
         },
         "title": {
          "font": {
           "color": "#4D5663"
          },
          "text": ""
         },
         "zerolinecolor": "#E1E5ED"
        },
        "yaxis": {
         "gridcolor": "#E1E5ED",
         "showgrid": true,
         "tickfont": {
          "color": "#4D5663"
         },
         "title": {
          "font": {
           "color": "#4D5663"
          },
          "text": ""
         },
         "zerolinecolor": "#E1E5ED"
        }
       }
      },
      "text/html": [
       "<div>\n",
       "        \n",
       "        \n",
       "            <div id=\"51087db5-0f79-4cf7-9848-07e101f230b5\" class=\"plotly-graph-div\" style=\"height:525px; width:100%;\"></div>\n",
       "            <script type=\"text/javascript\">\n",
       "                require([\"plotly\"], function(Plotly) {\n",
       "                    window.PLOTLYENV=window.PLOTLYENV || {};\n",
       "                    window.PLOTLYENV.BASE_URL='https://plot.ly';\n",
       "                    \n",
       "                if (document.getElementById(\"51087db5-0f79-4cf7-9848-07e101f230b5\")) {\n",
       "                    Plotly.newPlot(\n",
       "                        '51087db5-0f79-4cf7-9848-07e101f230b5',\n",
       "                        [{\"marker\": {\"color\": \"rgba(255, 153, 51, 0.6)\", \"line\": {\"color\": \"rgba(255, 153, 51, 1.0)\", \"width\": 1}}, \"name\": \"educ\", \"orientation\": \"v\", \"text\": \"\", \"type\": \"bar\", \"uid\": \"0f563929-b53a-4c27-9466-4f93d5304ddf\", \"x\": [0.0, 1.0], \"y\": [10.188235294117646, 10.38047138047138]}],\n",
       "                        {\"legend\": {\"bgcolor\": \"#F5F6F9\", \"font\": {\"color\": \"#4D5663\"}}, \"paper_bgcolor\": \"#F5F6F9\", \"plot_bgcolor\": \"#F5F6F9\", \"title\": {\"font\": {\"color\": \"#4D5663\"}}, \"xaxis\": {\"gridcolor\": \"#E1E5ED\", \"showgrid\": true, \"tickfont\": {\"color\": \"#4D5663\"}, \"title\": {\"font\": {\"color\": \"#4D5663\"}, \"text\": \"\"}, \"zerolinecolor\": \"#E1E5ED\"}, \"yaxis\": {\"gridcolor\": \"#E1E5ED\", \"showgrid\": true, \"tickfont\": {\"color\": \"#4D5663\"}, \"title\": {\"font\": {\"color\": \"#4D5663\"}, \"text\": \"\"}, \"zerolinecolor\": \"#E1E5ED\"}},\n",
       "                        {\"showLink\": true, \"linkText\": \"Export to plot.ly\", \"plotlyServerURL\": \"https://plot.ly\", \"responsive\": true}\n",
       "                    ).then(function(){\n",
       "                            \n",
       "var gd = document.getElementById('51087db5-0f79-4cf7-9848-07e101f230b5');\n",
       "var x = new MutationObserver(function (mutations, observer) {{\n",
       "        var display = window.getComputedStyle(gd).display;\n",
       "        if (!display || display === 'none') {{\n",
       "            console.log([gd, 'removed!']);\n",
       "            Plotly.purge(gd);\n",
       "            observer.disconnect();\n",
       "        }}\n",
       "}});\n",
       "\n",
       "// Listen for the removal of the full notebook cells\n",
       "var notebookContainer = gd.closest('#notebook-container');\n",
       "if (notebookContainer) {{\n",
       "    x.observe(notebookContainer, {childList: true});\n",
       "}}\n",
       "\n",
       "// Listen for the clearing of the current output cell\n",
       "var outputEl = gd.closest('.output');\n",
       "if (outputEl) {{\n",
       "    x.observe(outputEl, {childList: true});\n",
       "}}\n",
       "\n",
       "                        })\n",
       "                };\n",
       "                });\n",
       "            </script>\n",
       "        </div>"
      ]
     },
     "metadata": {},
     "output_type": "display_data"
    }
   ],
   "source": [
    "all_sample.groupby('treat').mean()['educ'].iplot(kind='bar')"
   ]
  },
  {
   "cell_type": "markdown",
   "metadata": {},
   "source": [
    "うーん少しは異なっているかも。。。"
   ]
  },
  {
   "cell_type": "markdown",
   "metadata": {},
   "source": [
    "## 反論3:学位を取ると収入が高くなる。施策を受けたグループには学位を取っていない人が施策を受けていないグループより少ないから、施策の効果は単純な平均値の差より小さいはずだ。"
   ]
  },
  {
   "cell_type": "code",
   "execution_count": 8,
   "metadata": {},
   "outputs": [
    {
     "data": {
      "application/vnd.plotly.v1+json": {
       "config": {
        "linkText": "Export to plot.ly",
        "plotlyServerURL": "https://plot.ly",
        "showLink": true
       },
       "data": [
        {
         "marker": {
          "color": "rgba(255, 153, 51, 0.6)",
          "line": {
           "color": "rgba(255, 153, 51, 1.0)",
           "width": 1
          }
         },
         "name": "nodegree",
         "orientation": "v",
         "text": "",
         "type": "bar",
         "uid": "a5127011-60bb-47a6-a798-2439e49655e2",
         "x": [
          0,
          1
         ],
         "y": [
          0.8141176470588235,
          0.7306397306397306
         ]
        }
       ],
       "layout": {
        "legend": {
         "bgcolor": "#F5F6F9",
         "font": {
          "color": "#4D5663"
         }
        },
        "paper_bgcolor": "#F5F6F9",
        "plot_bgcolor": "#F5F6F9",
        "title": {
         "font": {
          "color": "#4D5663"
         }
        },
        "xaxis": {
         "gridcolor": "#E1E5ED",
         "showgrid": true,
         "tickfont": {
          "color": "#4D5663"
         },
         "title": {
          "font": {
           "color": "#4D5663"
          },
          "text": ""
         },
         "zerolinecolor": "#E1E5ED"
        },
        "yaxis": {
         "gridcolor": "#E1E5ED",
         "showgrid": true,
         "tickfont": {
          "color": "#4D5663"
         },
         "title": {
          "font": {
           "color": "#4D5663"
          },
          "text": ""
         },
         "zerolinecolor": "#E1E5ED"
        }
       }
      },
      "text/html": [
       "<div>\n",
       "        \n",
       "        \n",
       "            <div id=\"c266cc9a-c69c-456c-b673-6b3d11132fe1\" class=\"plotly-graph-div\" style=\"height:525px; width:100%;\"></div>\n",
       "            <script type=\"text/javascript\">\n",
       "                require([\"plotly\"], function(Plotly) {\n",
       "                    window.PLOTLYENV=window.PLOTLYENV || {};\n",
       "                    window.PLOTLYENV.BASE_URL='https://plot.ly';\n",
       "                    \n",
       "                if (document.getElementById(\"c266cc9a-c69c-456c-b673-6b3d11132fe1\")) {\n",
       "                    Plotly.newPlot(\n",
       "                        'c266cc9a-c69c-456c-b673-6b3d11132fe1',\n",
       "                        [{\"marker\": {\"color\": \"rgba(255, 153, 51, 0.6)\", \"line\": {\"color\": \"rgba(255, 153, 51, 1.0)\", \"width\": 1}}, \"name\": \"nodegree\", \"orientation\": \"v\", \"text\": \"\", \"type\": \"bar\", \"uid\": \"a5127011-60bb-47a6-a798-2439e49655e2\", \"x\": [0.0, 1.0], \"y\": [0.8141176470588235, 0.7306397306397306]}],\n",
       "                        {\"legend\": {\"bgcolor\": \"#F5F6F9\", \"font\": {\"color\": \"#4D5663\"}}, \"paper_bgcolor\": \"#F5F6F9\", \"plot_bgcolor\": \"#F5F6F9\", \"title\": {\"font\": {\"color\": \"#4D5663\"}}, \"xaxis\": {\"gridcolor\": \"#E1E5ED\", \"showgrid\": true, \"tickfont\": {\"color\": \"#4D5663\"}, \"title\": {\"font\": {\"color\": \"#4D5663\"}, \"text\": \"\"}, \"zerolinecolor\": \"#E1E5ED\"}, \"yaxis\": {\"gridcolor\": \"#E1E5ED\", \"showgrid\": true, \"tickfont\": {\"color\": \"#4D5663\"}, \"title\": {\"font\": {\"color\": \"#4D5663\"}, \"text\": \"\"}, \"zerolinecolor\": \"#E1E5ED\"}},\n",
       "                        {\"showLink\": true, \"linkText\": \"Export to plot.ly\", \"plotlyServerURL\": \"https://plot.ly\", \"responsive\": true}\n",
       "                    ).then(function(){\n",
       "                            \n",
       "var gd = document.getElementById('c266cc9a-c69c-456c-b673-6b3d11132fe1');\n",
       "var x = new MutationObserver(function (mutations, observer) {{\n",
       "        var display = window.getComputedStyle(gd).display;\n",
       "        if (!display || display === 'none') {{\n",
       "            console.log([gd, 'removed!']);\n",
       "            Plotly.purge(gd);\n",
       "            observer.disconnect();\n",
       "        }}\n",
       "}});\n",
       "\n",
       "// Listen for the removal of the full notebook cells\n",
       "var notebookContainer = gd.closest('#notebook-container');\n",
       "if (notebookContainer) {{\n",
       "    x.observe(notebookContainer, {childList: true});\n",
       "}}\n",
       "\n",
       "// Listen for the clearing of the current output cell\n",
       "var outputEl = gd.closest('.output');\n",
       "if (outputEl) {{\n",
       "    x.observe(outputEl, {childList: true});\n",
       "}}\n",
       "\n",
       "                        })\n",
       "                };\n",
       "                });\n",
       "            </script>\n",
       "        </div>"
      ]
     },
     "metadata": {},
     "output_type": "display_data"
    }
   ],
   "source": [
    "all_sample.groupby('treat').mean()['nodegree'].iplot(kind='bar')"
   ]
  },
  {
   "cell_type": "markdown",
   "metadata": {},
   "source": [
    "あるかもね"
   ]
  },
  {
   "cell_type": "markdown",
   "metadata": {},
   "source": [
    "答えるべき問題：グループ間で変数は偏っているのか？"
   ]
  },
  {
   "cell_type": "markdown",
   "metadata": {},
   "source": [
    "# グループ間で変数が偏っているかどうかの指標：SMD(Standardized difference)"
   ]
  },
  {
   "cell_type": "markdown",
   "metadata": {},
   "source": [
    "グループ間で変数が偏っていないことをbalanceしていると呼ぶ。balanceしているかどうかを判断する指標として、SMDが用いられる。"
   ]
  },
  {
   "cell_type": "code",
   "execution_count": 97,
   "metadata": {},
   "outputs": [],
   "source": [
    "def caliculate_SMD(treated_x, controlled_x):\n",
    "    return abs((treated_x.mean()-controlled_x.mean()) / math.sqrt((treated_x.std()**2 + controlled_x.std()**2)/2))"
   ]
  },
  {
   "cell_type": "code",
   "execution_count": 100,
   "metadata": {},
   "outputs": [],
   "source": [
    "def print_SMD(all_sample):\n",
    "    for column_name, item in all_sample.iteritems():\n",
    "        print(column_name)\n",
    "        print('SMD is ',caliculate_SMD(all_sample.loc[all_sample['treat'] == 1,column_name], all_sample.loc[all_sample['treat'] == 0,column_name]))"
   ]
  },
  {
   "cell_type": "code",
   "execution_count": 101,
   "metadata": {},
   "outputs": [
    {
     "name": "stdout",
     "output_type": "stream",
     "text": [
      "treat\n",
      "SMD is  inf\n",
      "age\n",
      "SMD is  0.02699459214545177\n",
      "educ\n",
      "SMD is  0.11169514216793087\n",
      "black\n",
      "SMD is  0.0033664496935312455\n",
      "hispan\n",
      "SMD is  0.0611890422867755\n",
      "married\n",
      "SMD is  0.02893847313003525\n",
      "nodegree\n",
      "SMD is  0.1997910779459351\n",
      "re75\n",
      "SMD is  0.007819420948937669\n",
      "re78\n",
      "SMD is  0.13958361580954365\n"
     ]
    },
    {
     "name": "stderr",
     "output_type": "stream",
     "text": [
      "/home/watanabe/.local/share/virtualenvs/causal_inference_lalomde-bTRS2FO0/lib/python3.6/site-packages/ipykernel_launcher.py:2: RuntimeWarning:\n",
      "\n",
      "divide by zero encountered in double_scalars\n",
      "\n"
     ]
    }
   ],
   "source": [
    "print_SMD(all_sample)"
   ]
  },
  {
   "cell_type": "markdown",
   "metadata": {},
   "source": [
    "0.1ならok  \n",
    "0.1~0.2ならセーフ  \n",
    "0.2以上ならbalanceしてないと解釈する（らしい）"
   ]
  },
  {
   "cell_type": "markdown",
   "metadata": {},
   "source": [
    "学位の有る無しがbalanceしてないと判断する"
   ]
  },
  {
   "cell_type": "markdown",
   "metadata": {},
   "source": [
    "# どうやってバランスさせるか：マッチング  \n",
    "マッチング前後でSMDの差を確認する"
   ]
  },
  {
   "cell_type": "markdown",
   "metadata": {},
   "source": [
    "## マハラノビス距離に基づくマッチング"
   ]
  },
  {
   "cell_type": "markdown",
   "metadata": {},
   "source": [
    "    1:介入群のサンプルをランダムに並び替える\n",
    "    2:介入群の一番上のサンプルと、対象群のすべてのサンプルのマハラノビス距離を計算し、最小のペアを見つける。\n",
    "    3:そのペアを削除する。\n",
    "    4:介入群のサンプルがなくなるまで2,3を繰り返す。"
   ]
  },
  {
   "cell_type": "code",
   "execution_count": 91,
   "metadata": {},
   "outputs": [],
   "source": [
    "def match_mahalabinos(treated_data, controlled_data):\n",
    "    pairs = []\n",
    "    treated = treated_data.copy()\n",
    "    controlled = controlled_data.copy()\n",
    "    for treated_index, treated_sample in treated.iterrows():\n",
    "\n",
    "        dist_list = []\n",
    "\n",
    "        for controlled_index ,controlled_sample in controlled.iterrows():\n",
    "            dist = distance.mahalanobis(treated_sample , controlled_sample , cov)\n",
    "            dist_list.append(dist)\n",
    "        \n",
    "#         print(controlled.shape)\n",
    "#         print(dist_list.index(min(dist_list)))\n",
    "        controlled_min_index = dist_list.index(min(dist_list))\n",
    "        pair = {'treated_index':treated_index, 'controlled_index':controlled.index[controlled_min_index]}\n",
    "        pairs.append(pair)\n",
    "\n",
    "        controlled = controlled.drop(controlled.index[controlled_min_index])\n",
    "        \n",
    "    return pairs\n",
    "\n",
    "    \n"
   ]
  },
  {
   "cell_type": "code",
   "execution_count": 92,
   "metadata": {},
   "outputs": [
    {
     "name": "stdout",
     "output_type": "stream",
     "text": [
      "(425, 9)\n",
      "33\n",
      "(424, 9)\n",
      "402\n",
      "(423, 9)\n",
      "124\n",
      "(422, 9)\n",
      "188\n",
      "(421, 9)\n",
      "226\n",
      "(420, 9)\n",
      "362\n",
      "(419, 9)\n",
      "108\n",
      "(418, 9)\n",
      "406\n",
      "(417, 9)\n",
      "189\n",
      "(416, 9)\n",
      "96\n",
      "(415, 9)\n",
      "235\n",
      "(414, 9)\n",
      "47\n",
      "(413, 9)\n",
      "165\n",
      "(412, 9)\n",
      "372\n",
      "(411, 9)\n",
      "160\n",
      "(410, 9)\n",
      "374\n",
      "(409, 9)\n",
      "114\n",
      "(408, 9)\n",
      "31\n",
      "(407, 9)\n",
      "328\n",
      "(406, 9)\n",
      "4\n",
      "(405, 9)\n",
      "205\n",
      "(404, 9)\n",
      "400\n",
      "(403, 9)\n",
      "77\n",
      "(402, 9)\n",
      "69\n",
      "(401, 9)\n",
      "189\n",
      "(400, 9)\n",
      "128\n",
      "(399, 9)\n",
      "318\n",
      "(398, 9)\n",
      "38\n",
      "(397, 9)\n",
      "175\n",
      "(396, 9)\n",
      "30\n",
      "(395, 9)\n",
      "73\n",
      "(394, 9)\n",
      "345\n",
      "(393, 9)\n",
      "161\n",
      "(392, 9)\n",
      "110\n",
      "(391, 9)\n",
      "298\n",
      "(390, 9)\n",
      "60\n",
      "(389, 9)\n",
      "32\n",
      "(388, 9)\n",
      "97\n",
      "(387, 9)\n",
      "53\n",
      "(386, 9)\n",
      "48\n",
      "(385, 9)\n",
      "299\n",
      "(384, 9)\n",
      "110\n",
      "(383, 9)\n",
      "171\n",
      "(382, 9)\n",
      "102\n",
      "(381, 9)\n",
      "77\n",
      "(380, 9)\n",
      "327\n",
      "(379, 9)\n",
      "104\n",
      "(378, 9)\n",
      "58\n",
      "(377, 9)\n",
      "351\n",
      "(376, 9)\n",
      "343\n",
      "(375, 9)\n",
      "1\n",
      "(374, 9)\n",
      "236\n",
      "(373, 9)\n",
      "21\n",
      "(372, 9)\n",
      "78\n",
      "(371, 9)\n",
      "359\n",
      "(370, 9)\n",
      "358\n",
      "(369, 9)\n",
      "54\n",
      "(368, 9)\n",
      "323\n",
      "(367, 9)\n",
      "359\n",
      "(366, 9)\n",
      "51\n",
      "(365, 9)\n",
      "351\n",
      "(364, 9)\n",
      "181\n",
      "(363, 9)\n",
      "327\n",
      "(362, 9)\n",
      "120\n",
      "(361, 9)\n",
      "302\n",
      "(360, 9)\n",
      "294\n",
      "(359, 9)\n",
      "358\n",
      "(358, 9)\n",
      "106\n",
      "(357, 9)\n",
      "6\n",
      "(356, 9)\n",
      "243\n",
      "(355, 9)\n",
      "0\n",
      "(354, 9)\n",
      "290\n",
      "(353, 9)\n",
      "52\n",
      "(352, 9)\n",
      "21\n",
      "(351, 9)\n",
      "333\n",
      "(350, 9)\n",
      "310\n",
      "(349, 9)\n",
      "2\n",
      "(348, 9)\n",
      "2\n",
      "(347, 9)\n",
      "162\n",
      "(346, 9)\n",
      "27\n",
      "(345, 9)\n",
      "6\n",
      "(344, 9)\n",
      "62\n",
      "(343, 9)\n",
      "38\n",
      "(342, 9)\n",
      "240\n",
      "(341, 9)\n",
      "124\n",
      "(340, 9)\n",
      "153\n",
      "(339, 9)\n",
      "102\n",
      "(338, 9)\n",
      "68\n",
      "(337, 9)\n",
      "54\n",
      "(336, 9)\n",
      "139\n",
      "(335, 9)\n",
      "185\n",
      "(334, 9)\n",
      "197\n",
      "(333, 9)\n",
      "90\n",
      "(332, 9)\n",
      "128\n",
      "(331, 9)\n",
      "5\n",
      "(330, 9)\n",
      "49\n",
      "(329, 9)\n",
      "231\n",
      "(328, 9)\n",
      "194\n",
      "(327, 9)\n",
      "69\n",
      "(326, 9)\n",
      "88\n",
      "(325, 9)\n",
      "17\n",
      "(324, 9)\n",
      "262\n",
      "(323, 9)\n",
      "125\n",
      "(322, 9)\n",
      "208\n",
      "(321, 9)\n",
      "286\n",
      "(320, 9)\n",
      "133\n",
      "(319, 9)\n",
      "106\n",
      "(318, 9)\n",
      "148\n",
      "(317, 9)\n",
      "122\n",
      "(316, 9)\n",
      "101\n",
      "(315, 9)\n",
      "201\n",
      "(314, 9)\n",
      "48\n",
      "(313, 9)\n",
      "286\n",
      "(312, 9)\n",
      "276\n",
      "(311, 9)\n",
      "179\n",
      "(310, 9)\n",
      "48\n",
      "(309, 9)\n",
      "166\n",
      "(308, 9)\n",
      "277\n",
      "(307, 9)\n",
      "66\n",
      "(306, 9)\n",
      "1\n",
      "(305, 9)\n",
      "262\n",
      "(304, 9)\n",
      "297\n",
      "(303, 9)\n",
      "282\n",
      "(302, 9)\n",
      "151\n",
      "(301, 9)\n",
      "173\n",
      "(300, 9)\n",
      "22\n",
      "(299, 9)\n",
      "67\n",
      "(298, 9)\n",
      "278\n",
      "(297, 9)\n",
      "52\n",
      "(296, 9)\n",
      "285\n",
      "(295, 9)\n",
      "171\n",
      "(294, 9)\n",
      "248\n",
      "(293, 9)\n",
      "129\n",
      "(292, 9)\n",
      "262\n",
      "(291, 9)\n",
      "30\n",
      "(290, 9)\n",
      "246\n",
      "(289, 9)\n",
      "105\n",
      "(288, 9)\n",
      "162\n",
      "(287, 9)\n",
      "165\n",
      "(286, 9)\n",
      "17\n",
      "(285, 9)\n",
      "189\n",
      "(284, 9)\n",
      "190\n",
      "(283, 9)\n",
      "224\n",
      "(282, 9)\n",
      "255\n",
      "(281, 9)\n",
      "260\n",
      "(280, 9)\n",
      "225\n",
      "(279, 9)\n",
      "274\n",
      "(278, 9)\n",
      "23\n",
      "(277, 9)\n",
      "244\n",
      "(276, 9)\n",
      "233\n",
      "(275, 9)\n",
      "245\n",
      "(274, 9)\n",
      "24\n",
      "(273, 9)\n",
      "100\n",
      "(272, 9)\n",
      "259\n",
      "(271, 9)\n",
      "224\n",
      "(270, 9)\n",
      "261\n",
      "(269, 9)\n",
      "267\n",
      "(268, 9)\n",
      "238\n",
      "(267, 9)\n",
      "73\n",
      "(266, 9)\n",
      "89\n",
      "(265, 9)\n",
      "221\n",
      "(264, 9)\n",
      "217\n",
      "(263, 9)\n",
      "60\n",
      "(262, 9)\n",
      "41\n",
      "(261, 9)\n",
      "135\n",
      "(260, 9)\n",
      "240\n",
      "(259, 9)\n",
      "20\n",
      "(258, 9)\n",
      "205\n",
      "(257, 9)\n",
      "181\n",
      "(256, 9)\n",
      "195\n",
      "(255, 9)\n",
      "151\n",
      "(254, 9)\n",
      "35\n",
      "(253, 9)\n",
      "183\n",
      "(252, 9)\n",
      "8\n",
      "(251, 9)\n",
      "90\n",
      "(250, 9)\n",
      "110\n",
      "(249, 9)\n",
      "119\n",
      "(248, 9)\n",
      "187\n",
      "(247, 9)\n",
      "156\n",
      "(246, 9)\n",
      "57\n",
      "(245, 9)\n",
      "3\n",
      "(244, 9)\n",
      "52\n",
      "(243, 9)\n",
      "167\n",
      "(242, 9)\n",
      "123\n",
      "(241, 9)\n",
      "154\n",
      "(240, 9)\n",
      "141\n",
      "(239, 9)\n",
      "211\n",
      "(238, 9)\n",
      "211\n",
      "(237, 9)\n",
      "234\n",
      "(236, 9)\n",
      "19\n",
      "(235, 9)\n",
      "61\n",
      "(234, 9)\n",
      "1\n",
      "(233, 9)\n",
      "210\n",
      "(232, 9)\n",
      "225\n",
      "(231, 9)\n",
      "192\n",
      "(230, 9)\n",
      "102\n",
      "(229, 9)\n",
      "124\n",
      "(228, 9)\n",
      "186\n",
      "(227, 9)\n",
      "138\n",
      "(226, 9)\n",
      "176\n",
      "(225, 9)\n",
      "54\n",
      "(224, 9)\n",
      "40\n",
      "(223, 9)\n",
      "119\n",
      "(222, 9)\n",
      "219\n",
      "(221, 9)\n",
      "133\n",
      "(220, 9)\n",
      "71\n",
      "(219, 9)\n",
      "146\n",
      "(218, 9)\n",
      "35\n",
      "(217, 9)\n",
      "122\n",
      "(216, 9)\n",
      "49\n",
      "(215, 9)\n",
      "108\n",
      "(214, 9)\n",
      "170\n",
      "(213, 9)\n",
      "133\n",
      "(212, 9)\n",
      "102\n",
      "(211, 9)\n",
      "209\n",
      "(210, 9)\n",
      "189\n",
      "(209, 9)\n",
      "155\n",
      "(208, 9)\n",
      "183\n",
      "(207, 9)\n",
      "25\n",
      "(206, 9)\n",
      "168\n",
      "(205, 9)\n",
      "139\n",
      "(204, 9)\n",
      "183\n",
      "(203, 9)\n",
      "40\n",
      "(202, 9)\n",
      "29\n",
      "(201, 9)\n",
      "197\n",
      "(200, 9)\n",
      "75\n",
      "(199, 9)\n",
      "29\n",
      "(198, 9)\n",
      "74\n",
      "(197, 9)\n",
      "91\n",
      "(196, 9)\n",
      "50\n",
      "(195, 9)\n",
      "128\n",
      "(194, 9)\n",
      "157\n",
      "(193, 9)\n",
      "128\n",
      "(192, 9)\n",
      "21\n",
      "(191, 9)\n",
      "125\n",
      "(190, 9)\n",
      "179\n",
      "(189, 9)\n",
      "97\n",
      "(188, 9)\n",
      "53\n",
      "(187, 9)\n",
      "148\n",
      "(186, 9)\n",
      "52\n",
      "(185, 9)\n",
      "35\n",
      "(184, 9)\n",
      "105\n",
      "(183, 9)\n",
      "126\n",
      "(182, 9)\n",
      "64\n",
      "(181, 9)\n",
      "128\n",
      "(180, 9)\n",
      "32\n",
      "(179, 9)\n",
      "107\n",
      "(178, 9)\n",
      "45\n",
      "(177, 9)\n",
      "154\n",
      "(176, 9)\n",
      "72\n",
      "(175, 9)\n",
      "143\n",
      "(174, 9)\n",
      "65\n",
      "(173, 9)\n",
      "127\n",
      "(172, 9)\n",
      "81\n",
      "(171, 9)\n",
      "116\n",
      "(170, 9)\n",
      "29\n",
      "(169, 9)\n",
      "92\n",
      "(168, 9)\n",
      "121\n",
      "(167, 9)\n",
      "1\n",
      "(166, 9)\n",
      "158\n",
      "(165, 9)\n",
      "103\n",
      "(164, 9)\n",
      "132\n",
      "(163, 9)\n",
      "146\n",
      "(162, 9)\n",
      "121\n",
      "(161, 9)\n",
      "140\n",
      "(160, 9)\n",
      "147\n",
      "(159, 9)\n",
      "116\n",
      "(158, 9)\n",
      "78\n",
      "(157, 9)\n",
      "1\n",
      "(156, 9)\n",
      "44\n",
      "(155, 9)\n",
      "7\n",
      "(154, 9)\n",
      "79\n",
      "(153, 9)\n",
      "103\n",
      "(152, 9)\n",
      "46\n",
      "(151, 9)\n",
      "52\n",
      "(150, 9)\n",
      "58\n",
      "(149, 9)\n",
      "73\n",
      "(148, 9)\n",
      "30\n",
      "(147, 9)\n",
      "118\n",
      "(146, 9)\n",
      "99\n",
      "(145, 9)\n",
      "72\n",
      "(144, 9)\n",
      "38\n",
      "(143, 9)\n",
      "26\n",
      "(142, 9)\n",
      "125\n",
      "(141, 9)\n",
      "135\n",
      "(140, 9)\n",
      "110\n",
      "(139, 9)\n",
      "48\n",
      "(138, 9)\n",
      "135\n",
      "(137, 9)\n",
      "46\n",
      "(136, 9)\n",
      "21\n",
      "(135, 9)\n",
      "76\n",
      "(134, 9)\n",
      "105\n",
      "(133, 9)\n",
      "72\n",
      "(132, 9)\n",
      "47\n",
      "(131, 9)\n",
      "96\n",
      "(130, 9)\n",
      "61\n",
      "(129, 9)\n",
      "77\n"
     ]
    }
   ],
   "source": [
    "pairs = match_mahalabinos(treated, controlled)"
   ]
  },
  {
   "cell_type": "code",
   "execution_count": 96,
   "metadata": {},
   "outputs": [
    {
     "name": "stdout",
     "output_type": "stream",
     "text": [
      "(297, 9)\n"
     ]
    },
    {
     "data": {
      "text/html": [
       "<div>\n",
       "<style scoped>\n",
       "    .dataframe tbody tr th:only-of-type {\n",
       "        vertical-align: middle;\n",
       "    }\n",
       "\n",
       "    .dataframe tbody tr th {\n",
       "        vertical-align: top;\n",
       "    }\n",
       "\n",
       "    .dataframe thead th {\n",
       "        text-align: right;\n",
       "    }\n",
       "</style>\n",
       "<table border=\"1\" class=\"dataframe\">\n",
       "  <thead>\n",
       "    <tr style=\"text-align: right;\">\n",
       "      <th></th>\n",
       "      <th>treat</th>\n",
       "      <th>age</th>\n",
       "      <th>educ</th>\n",
       "      <th>black</th>\n",
       "      <th>hispan</th>\n",
       "      <th>married</th>\n",
       "      <th>nodegree</th>\n",
       "      <th>re75</th>\n",
       "      <th>re78</th>\n",
       "    </tr>\n",
       "  </thead>\n",
       "  <tbody>\n",
       "    <tr>\n",
       "      <td>33</td>\n",
       "      <td>0.0</td>\n",
       "      <td>22.0</td>\n",
       "      <td>8.0</td>\n",
       "      <td>0.0</td>\n",
       "      <td>1.0</td>\n",
       "      <td>0.0</td>\n",
       "      <td>1.0</td>\n",
       "      <td>0.0</td>\n",
       "      <td>9920.9450</td>\n",
       "    </tr>\n",
       "    <tr>\n",
       "      <td>403</td>\n",
       "      <td>0.0</td>\n",
       "      <td>17.0</td>\n",
       "      <td>9.0</td>\n",
       "      <td>1.0</td>\n",
       "      <td>0.0</td>\n",
       "      <td>0.0</td>\n",
       "      <td>1.0</td>\n",
       "      <td>0.0</td>\n",
       "      <td>3590.7020</td>\n",
       "    </tr>\n",
       "    <tr>\n",
       "      <td>125</td>\n",
       "      <td>0.0</td>\n",
       "      <td>25.0</td>\n",
       "      <td>10.0</td>\n",
       "      <td>1.0</td>\n",
       "      <td>0.0</td>\n",
       "      <td>0.0</td>\n",
       "      <td>1.0</td>\n",
       "      <td>0.0</td>\n",
       "      <td>20942.2400</td>\n",
       "    </tr>\n",
       "    <tr>\n",
       "      <td>190</td>\n",
       "      <td>0.0</td>\n",
       "      <td>27.0</td>\n",
       "      <td>13.0</td>\n",
       "      <td>1.0</td>\n",
       "      <td>0.0</td>\n",
       "      <td>0.0</td>\n",
       "      <td>0.0</td>\n",
       "      <td>0.0</td>\n",
       "      <td>7609.5180</td>\n",
       "    </tr>\n",
       "    <tr>\n",
       "      <td>229</td>\n",
       "      <td>0.0</td>\n",
       "      <td>25.0</td>\n",
       "      <td>10.0</td>\n",
       "      <td>1.0</td>\n",
       "      <td>0.0</td>\n",
       "      <td>0.0</td>\n",
       "      <td>1.0</td>\n",
       "      <td>0.0</td>\n",
       "      <td>289.7899</td>\n",
       "    </tr>\n",
       "  </tbody>\n",
       "</table>\n",
       "</div>"
      ],
      "text/plain": [
       "     treat   age  educ  black  hispan  married  nodegree  re75        re78\n",
       "33     0.0  22.0   8.0    0.0     1.0      0.0       1.0   0.0   9920.9450\n",
       "403    0.0  17.0   9.0    1.0     0.0      0.0       1.0   0.0   3590.7020\n",
       "125    0.0  25.0  10.0    1.0     0.0      0.0       1.0   0.0  20942.2400\n",
       "190    0.0  27.0  13.0    1.0     0.0      0.0       0.0   0.0   7609.5180\n",
       "229    0.0  25.0  10.0    1.0     0.0      0.0       1.0   0.0    289.7899"
      ]
     },
     "execution_count": 96,
     "metadata": {},
     "output_type": "execute_result"
    }
   ],
   "source": [
    "matched_index = [x['controlled_index'] for x in pairs]\n",
    "matched_controlled = controlled.loc[matced_index ,:]\n",
    "print(matched_controlled.shape)\n",
    "matched_controlled.head()"
   ]
  },
  {
   "cell_type": "code",
   "execution_count": 105,
   "metadata": {},
   "outputs": [
    {
     "data": {
      "text/html": [
       "<div>\n",
       "<style scoped>\n",
       "    .dataframe tbody tr th:only-of-type {\n",
       "        vertical-align: middle;\n",
       "    }\n",
       "\n",
       "    .dataframe tbody tr th {\n",
       "        vertical-align: top;\n",
       "    }\n",
       "\n",
       "    .dataframe thead th {\n",
       "        text-align: right;\n",
       "    }\n",
       "</style>\n",
       "<table border=\"1\" class=\"dataframe\">\n",
       "  <thead>\n",
       "    <tr style=\"text-align: right;\">\n",
       "      <th></th>\n",
       "      <th>treat</th>\n",
       "      <th>age</th>\n",
       "      <th>educ</th>\n",
       "      <th>black</th>\n",
       "      <th>hispan</th>\n",
       "      <th>married</th>\n",
       "      <th>nodegree</th>\n",
       "      <th>re75</th>\n",
       "      <th>re78</th>\n",
       "    </tr>\n",
       "  </thead>\n",
       "  <tbody>\n",
       "    <tr>\n",
       "      <td>0</td>\n",
       "      <td>1.0</td>\n",
       "      <td>37.0</td>\n",
       "      <td>11.0</td>\n",
       "      <td>1.0</td>\n",
       "      <td>0.0</td>\n",
       "      <td>1.0</td>\n",
       "      <td>1.0</td>\n",
       "      <td>0.000</td>\n",
       "      <td>9930.0460</td>\n",
       "    </tr>\n",
       "    <tr>\n",
       "      <td>1</td>\n",
       "      <td>1.0</td>\n",
       "      <td>22.0</td>\n",
       "      <td>9.0</td>\n",
       "      <td>0.0</td>\n",
       "      <td>1.0</td>\n",
       "      <td>0.0</td>\n",
       "      <td>1.0</td>\n",
       "      <td>0.000</td>\n",
       "      <td>3595.8940</td>\n",
       "    </tr>\n",
       "    <tr>\n",
       "      <td>2</td>\n",
       "      <td>1.0</td>\n",
       "      <td>30.0</td>\n",
       "      <td>12.0</td>\n",
       "      <td>1.0</td>\n",
       "      <td>0.0</td>\n",
       "      <td>0.0</td>\n",
       "      <td>0.0</td>\n",
       "      <td>0.000</td>\n",
       "      <td>24909.4500</td>\n",
       "    </tr>\n",
       "    <tr>\n",
       "      <td>3</td>\n",
       "      <td>1.0</td>\n",
       "      <td>27.0</td>\n",
       "      <td>11.0</td>\n",
       "      <td>1.0</td>\n",
       "      <td>0.0</td>\n",
       "      <td>0.0</td>\n",
       "      <td>1.0</td>\n",
       "      <td>0.000</td>\n",
       "      <td>7506.1460</td>\n",
       "    </tr>\n",
       "    <tr>\n",
       "      <td>4</td>\n",
       "      <td>1.0</td>\n",
       "      <td>33.0</td>\n",
       "      <td>8.0</td>\n",
       "      <td>1.0</td>\n",
       "      <td>0.0</td>\n",
       "      <td>0.0</td>\n",
       "      <td>1.0</td>\n",
       "      <td>0.000</td>\n",
       "      <td>289.7899</td>\n",
       "    </tr>\n",
       "    <tr>\n",
       "      <td>...</td>\n",
       "      <td>...</td>\n",
       "      <td>...</td>\n",
       "      <td>...</td>\n",
       "      <td>...</td>\n",
       "      <td>...</td>\n",
       "      <td>...</td>\n",
       "      <td>...</td>\n",
       "      <td>...</td>\n",
       "      <td>...</td>\n",
       "    </tr>\n",
       "    <tr>\n",
       "      <td>292</td>\n",
       "      <td>1.0</td>\n",
       "      <td>20.0</td>\n",
       "      <td>9.0</td>\n",
       "      <td>1.0</td>\n",
       "      <td>0.0</td>\n",
       "      <td>0.0</td>\n",
       "      <td>1.0</td>\n",
       "      <td>0.000</td>\n",
       "      <td>8881.6650</td>\n",
       "    </tr>\n",
       "    <tr>\n",
       "      <td>293</td>\n",
       "      <td>1.0</td>\n",
       "      <td>31.0</td>\n",
       "      <td>4.0</td>\n",
       "      <td>1.0</td>\n",
       "      <td>0.0</td>\n",
       "      <td>0.0</td>\n",
       "      <td>1.0</td>\n",
       "      <td>4023.211</td>\n",
       "      <td>7382.5490</td>\n",
       "    </tr>\n",
       "    <tr>\n",
       "      <td>294</td>\n",
       "      <td>1.0</td>\n",
       "      <td>24.0</td>\n",
       "      <td>10.0</td>\n",
       "      <td>1.0</td>\n",
       "      <td>0.0</td>\n",
       "      <td>1.0</td>\n",
       "      <td>1.0</td>\n",
       "      <td>4078.152</td>\n",
       "      <td>0.0000</td>\n",
       "    </tr>\n",
       "    <tr>\n",
       "      <td>295</td>\n",
       "      <td>1.0</td>\n",
       "      <td>33.0</td>\n",
       "      <td>11.0</td>\n",
       "      <td>1.0</td>\n",
       "      <td>0.0</td>\n",
       "      <td>1.0</td>\n",
       "      <td>1.0</td>\n",
       "      <td>25142.240</td>\n",
       "      <td>4181.9420</td>\n",
       "    </tr>\n",
       "    <tr>\n",
       "      <td>296</td>\n",
       "      <td>1.0</td>\n",
       "      <td>33.0</td>\n",
       "      <td>12.0</td>\n",
       "      <td>1.0</td>\n",
       "      <td>0.0</td>\n",
       "      <td>1.0</td>\n",
       "      <td>0.0</td>\n",
       "      <td>10941.350</td>\n",
       "      <td>15952.6000</td>\n",
       "    </tr>\n",
       "  </tbody>\n",
       "</table>\n",
       "<p>297 rows × 9 columns</p>\n",
       "</div>"
      ],
      "text/plain": [
       "     treat   age  educ  black  hispan  married  nodegree       re75  \\\n",
       "0      1.0  37.0  11.0    1.0     0.0      1.0       1.0      0.000   \n",
       "1      1.0  22.0   9.0    0.0     1.0      0.0       1.0      0.000   \n",
       "2      1.0  30.0  12.0    1.0     0.0      0.0       0.0      0.000   \n",
       "3      1.0  27.0  11.0    1.0     0.0      0.0       1.0      0.000   \n",
       "4      1.0  33.0   8.0    1.0     0.0      0.0       1.0      0.000   \n",
       "..     ...   ...   ...    ...     ...      ...       ...        ...   \n",
       "292    1.0  20.0   9.0    1.0     0.0      0.0       1.0      0.000   \n",
       "293    1.0  31.0   4.0    1.0     0.0      0.0       1.0   4023.211   \n",
       "294    1.0  24.0  10.0    1.0     0.0      1.0       1.0   4078.152   \n",
       "295    1.0  33.0  11.0    1.0     0.0      1.0       1.0  25142.240   \n",
       "296    1.0  33.0  12.0    1.0     0.0      1.0       0.0  10941.350   \n",
       "\n",
       "           re78  \n",
       "0     9930.0460  \n",
       "1     3595.8940  \n",
       "2    24909.4500  \n",
       "3     7506.1460  \n",
       "4      289.7899  \n",
       "..          ...  \n",
       "292   8881.6650  \n",
       "293   7382.5490  \n",
       "294      0.0000  \n",
       "295   4181.9420  \n",
       "296  15952.6000  \n",
       "\n",
       "[297 rows x 9 columns]"
      ]
     },
     "execution_count": 105,
     "metadata": {},
     "output_type": "execute_result"
    }
   ],
   "source": [
    "treated"
   ]
  },
  {
   "cell_type": "code",
   "execution_count": 108,
   "metadata": {
    "scrolled": true
   },
   "outputs": [
    {
     "name": "stdout",
     "output_type": "stream",
     "text": [
      "treat\n",
      "SMD is  inf\n",
      "age\n",
      "SMD is  0.09311634140213589\n",
      "educ\n",
      "SMD is  0.09600669296658523\n",
      "black\n",
      "SMD is  0.041503719909505375\n",
      "hispan\n",
      "SMD is  0.09706736316253686\n",
      "married\n",
      "SMD is  0.05530189354470355\n",
      "nodegree\n",
      "SMD is  0.20161587371660813\n",
      "re75\n",
      "SMD is  0.002798651102150844\n",
      "re78\n",
      "SMD is  0.04177022542075894\n"
     ]
    },
    {
     "name": "stderr",
     "output_type": "stream",
     "text": [
      "/home/watanabe/.local/share/virtualenvs/causal_inference_lalomde-bTRS2FO0/lib/python3.6/site-packages/ipykernel_launcher.py:2: RuntimeWarning:\n",
      "\n",
      "divide by zero encountered in double_scalars\n",
      "\n"
     ]
    }
   ],
   "source": [
    "all_matched_sample = pd.concat((treated, matched_controlled), axis=0)\n",
    "print_SMD(all_matched_sample)"
   ]
  },
  {
   "cell_type": "code",
   "execution_count": 122,
   "metadata": {},
   "outputs": [],
   "source": [
    "def plot_SMDplot(before_matched_data, after_matched_data):\n",
    "    before_SMD = []\n",
    "    after_SMD = []\n",
    "    drop_columns = ['re78']\n",
    "    before_matched_data = before_matched_data.drop(drop_columns,axis=1)\n",
    "    after_matched_data = after_matched_data.drop(drop_columns,axis=1)\n",
    "    \n",
    "    for column_name, item in before_matched_data.iteritems():\n",
    "        SMD = caliculate_SMD(before_matched_data.loc[before_matched_data['treat'] == 1,column_name], before_matched_data.loc[before_matched_data['treat'] == 0,column_name])\n",
    "        before_SMD.append(SMD)\n",
    " \n",
    "    for column_name, item in after_matched_data.iteritems():\n",
    "        SMD = caliculate_SMD(after_matched_data.loc[after_matched_data['treat'] == 1,column_name], after_matched_data.loc[after_matched_data['treat'] == 0,column_name])\n",
    "        after_SMD.append(SMD)\n",
    "    \n",
    "    \n",
    "    SMD_pdf = pd.DataFrame(data=(before_SMD,after_SMD), index=['before_matcheing','after_matching'], columns=after_matched_data.columns)\n",
    "    return SMD_pdf"
   ]
  },
  {
   "cell_type": "code",
   "execution_count": 123,
   "metadata": {},
   "outputs": [
    {
     "name": "stderr",
     "output_type": "stream",
     "text": [
      "/home/watanabe/.local/share/virtualenvs/causal_inference_lalomde-bTRS2FO0/lib/python3.6/site-packages/ipykernel_launcher.py:2: RuntimeWarning:\n",
      "\n",
      "divide by zero encountered in double_scalars\n",
      "\n"
     ]
    },
    {
     "data": {
      "text/html": [
       "<div>\n",
       "<style scoped>\n",
       "    .dataframe tbody tr th:only-of-type {\n",
       "        vertical-align: middle;\n",
       "    }\n",
       "\n",
       "    .dataframe tbody tr th {\n",
       "        vertical-align: top;\n",
       "    }\n",
       "\n",
       "    .dataframe thead th {\n",
       "        text-align: right;\n",
       "    }\n",
       "</style>\n",
       "<table border=\"1\" class=\"dataframe\">\n",
       "  <thead>\n",
       "    <tr style=\"text-align: right;\">\n",
       "      <th></th>\n",
       "      <th>treat</th>\n",
       "      <th>age</th>\n",
       "      <th>educ</th>\n",
       "      <th>black</th>\n",
       "      <th>hispan</th>\n",
       "      <th>married</th>\n",
       "      <th>nodegree</th>\n",
       "      <th>re75</th>\n",
       "    </tr>\n",
       "  </thead>\n",
       "  <tbody>\n",
       "    <tr>\n",
       "      <td>before_matcheing</td>\n",
       "      <td>inf</td>\n",
       "      <td>0.026995</td>\n",
       "      <td>0.111695</td>\n",
       "      <td>0.003366</td>\n",
       "      <td>0.061189</td>\n",
       "      <td>0.028938</td>\n",
       "      <td>0.199791</td>\n",
       "      <td>0.007819</td>\n",
       "    </tr>\n",
       "    <tr>\n",
       "      <td>after_matching</td>\n",
       "      <td>inf</td>\n",
       "      <td>0.093116</td>\n",
       "      <td>0.096007</td>\n",
       "      <td>0.041504</td>\n",
       "      <td>0.097067</td>\n",
       "      <td>0.055302</td>\n",
       "      <td>0.201616</td>\n",
       "      <td>0.002799</td>\n",
       "    </tr>\n",
       "  </tbody>\n",
       "</table>\n",
       "</div>"
      ],
      "text/plain": [
       "                  treat       age      educ     black    hispan   married  \\\n",
       "before_matcheing    inf  0.026995  0.111695  0.003366  0.061189  0.028938   \n",
       "after_matching      inf  0.093116  0.096007  0.041504  0.097067  0.055302   \n",
       "\n",
       "                  nodegree      re75  \n",
       "before_matcheing  0.199791  0.007819  \n",
       "after_matching    0.201616  0.002799  "
      ]
     },
     "execution_count": 123,
     "metadata": {},
     "output_type": "execute_result"
    }
   ],
   "source": [
    "plot_SMDplot(all_sample, all_matched_sample)"
   ]
  },
  {
   "cell_type": "code",
   "execution_count": null,
   "metadata": {},
   "outputs": [],
   "source": []
  }
 ],
 "metadata": {
  "kernelspec": {
   "display_name": "Python 3",
   "language": "python",
   "name": "python3"
  },
  "language_info": {
   "codemirror_mode": {
    "name": "ipython",
    "version": 3
   },
   "file_extension": ".py",
   "mimetype": "text/x-python",
   "name": "python",
   "nbconvert_exporter": "python",
   "pygments_lexer": "ipython3",
   "version": "3.6.7"
  },
  "toc": {
   "base_numbering": 1,
   "nav_menu": {},
   "number_sections": true,
   "sideBar": true,
   "skip_h1_title": false,
   "title_cell": "Table of Contents",
   "title_sidebar": "Contents",
   "toc_cell": false,
   "toc_position": {
    "height": "calc(100% - 180px)",
    "left": "10px",
    "top": "150px",
    "width": "371px"
   },
   "toc_section_display": true,
   "toc_window_display": true
  }
 },
 "nbformat": 4,
 "nbformat_minor": 1
}
